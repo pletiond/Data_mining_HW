{
  "nbformat": 4,
  "nbformat_minor": 0,
  "metadata": {
    "colab": {
      "name": "hw4.ipynb",
      "version": "0.3.2",
      "provenance": [],
      "collapsed_sections": [],
      "toc_visible": true
    },
    "kernelspec": {
      "display_name": "Python 3",
      "language": "python",
      "name": "python3"
    }
  },
  "cells": [
    {
      "metadata": {
        "id": "c6SjOk27-fEv",
        "colab_type": "code",
        "outputId": "e4f59251-8d94-47a4-bcf7-0f6792db92f5",
        "colab": {
          "base_uri": "https://localhost:8080/",
          "height": 35
        }
      },
      "cell_type": "code",
      "source": [
        "import pandas as pd\n",
        "import networkx  as  nx\n",
        "import matplotlib.pyplot as plt\n",
        "import operator\n",
        "\n",
        "data = pd.read_csv('casts.csv',delimiter=';', header=None, names =['ID','film_name','actor','type','role'])\n",
        "print(f'Rows: {len(data)}')"
      ],
      "execution_count": 43,
      "outputs": [
        {
          "output_type": "stream",
          "text": [
            "Rows: 46233\n"
          ],
          "name": "stdout"
        }
      ]
    },
    {
      "metadata": {
        "id": "wDGe4wpp-fE4",
        "colab_type": "code",
        "outputId": "2cc53b17-e7e2-4c12-996d-8ff76244a8a7",
        "colab": {
          "base_uri": "https://localhost:8080/",
          "height": 171
        }
      },
      "cell_type": "code",
      "source": [
        "data.describe()"
      ],
      "execution_count": 44,
      "outputs": [
        {
          "output_type": "execute_result",
          "data": {
            "text/html": [
              "<div>\n",
              "<style scoped>\n",
              "    .dataframe tbody tr th:only-of-type {\n",
              "        vertical-align: middle;\n",
              "    }\n",
              "\n",
              "    .dataframe tbody tr th {\n",
              "        vertical-align: top;\n",
              "    }\n",
              "\n",
              "    .dataframe thead th {\n",
              "        text-align: right;\n",
              "    }\n",
              "</style>\n",
              "<table border=\"1\" class=\"dataframe\">\n",
              "  <thead>\n",
              "    <tr style=\"text-align: right;\">\n",
              "      <th></th>\n",
              "      <th>ID</th>\n",
              "      <th>film_name</th>\n",
              "      <th>actor</th>\n",
              "      <th>type</th>\n",
              "      <th>role</th>\n",
              "    </tr>\n",
              "  </thead>\n",
              "  <tbody>\n",
              "    <tr>\n",
              "      <th>count</th>\n",
              "      <td>46233</td>\n",
              "      <td>46229</td>\n",
              "      <td>46205</td>\n",
              "      <td>46198</td>\n",
              "      <td>46167</td>\n",
              "    </tr>\n",
              "    <tr>\n",
              "      <th>unique</th>\n",
              "      <td>8631</td>\n",
              "      <td>8632</td>\n",
              "      <td>16614</td>\n",
              "      <td>277</td>\n",
              "      <td>21028</td>\n",
              "    </tr>\n",
              "    <tr>\n",
              "      <th>top</th>\n",
              "      <td>MiA8</td>\n",
              "      <td>Romeo and Juliet</td>\n",
              "      <td>s a</td>\n",
              "      <td>Und</td>\n",
              "      <td>RU:</td>\n",
              "    </tr>\n",
              "    <tr>\n",
              "      <th>freq</th>\n",
              "      <td>46</td>\n",
              "      <td>59</td>\n",
              "      <td>1661</td>\n",
              "      <td>42556</td>\n",
              "      <td>19558</td>\n",
              "    </tr>\n",
              "  </tbody>\n",
              "</table>\n",
              "</div>"
            ],
            "text/plain": [
              "           ID         film_name  actor   type   role\n",
              "count   46233             46229  46205  46198  46167\n",
              "unique   8631              8632  16614    277  21028\n",
              "top      MiA8  Romeo and Juliet    s a    Und    RU:\n",
              "freq       46                59   1661  42556  19558"
            ]
          },
          "metadata": {
            "tags": []
          },
          "execution_count": 44
        }
      ]
    },
    {
      "metadata": {
        "id": "gcGFDtFg-fE9",
        "colab_type": "code",
        "colab": {}
      },
      "cell_type": "code",
      "source": [
        "film_actors = {}\n",
        "graph = nx.Graph()\n",
        "\n",
        "for index, row in data.iterrows():\n",
        "    graph.add_node(row['actor'])\n",
        "    \n",
        "    if row['film_name'] in film_actors:\n",
        "        for actor in film_actors[row['film_name']]:\n",
        "            graph.add_edge(actor, row['actor'])\n",
        "        \n",
        "        film_actors[row['film_name']].append(row['actor'])\n",
        "    else:\n",
        "        film_actors[row['film_name']] = [row['actor']]"
      ],
      "execution_count": 0,
      "outputs": []
    },
    {
      "metadata": {
        "id": "qz1AmbIU-fFB",
        "colab_type": "text"
      },
      "cell_type": "markdown",
      "source": [
        "## General statistics "
      ]
    },
    {
      "metadata": {
        "id": "Gr31nOnu-fFD",
        "colab_type": "code",
        "outputId": "e461f576-b9db-4168-b7a9-e45241660a3f",
        "colab": {
          "base_uri": "https://localhost:8080/",
          "height": 87
        }
      },
      "cell_type": "code",
      "source": [
        "nodes = len(graph.nodes)\n",
        "edges = len(graph.edges)\n",
        "density = (2*edges)/(nodes*(nodes-1))\n",
        "\n",
        "print(f'Nodes: {nodes}')\n",
        "print(f'Edges: {edges}')\n",
        "print(f'Density: {density}')\n",
        "print(f'Number of components: {nx.number_connected_components(graph)}')"
      ],
      "execution_count": 46,
      "outputs": [
        {
          "output_type": "stream",
          "text": [
            "Nodes: 16615\n",
            "Edges: 156042\n",
            "Density: 0.0011305686849167414\n",
            "Number of components: 637\n"
          ],
          "name": "stdout"
        }
      ]
    },
    {
      "metadata": {
        "id": "Z4Dti8Gx-fFI",
        "colab_type": "text"
      },
      "cell_type": "markdown",
      "source": [
        "## Centralities "
      ]
    },
    {
      "metadata": {
        "id": "gLjCAZV4-fFJ",
        "colab_type": "text"
      },
      "cell_type": "markdown",
      "source": [
        "### Degree centrality"
      ]
    },
    {
      "metadata": {
        "id": "z09vPHuh-fFK",
        "colab_type": "code",
        "outputId": "a08cc9f7-5f82-4f46-96c7-9a6d8f6102d7",
        "colab": {
          "base_uri": "https://localhost:8080/",
          "height": 191
        }
      },
      "cell_type": "code",
      "source": [
        "degree_cen = nx.degree_centrality(graph)\n",
        "sorted_x = sorted(degree_cen.items(), key=lambda kv: kv[1], reverse= True)\n",
        "for i in sorted_x[:10]:\n",
        "    print(f'{i[0]} - {i[1]}')"
      ],
      "execution_count": 47,
      "outputs": [
        {
          "output_type": "stream",
          "text": [
            "s a - 0.19934994582881907\n",
            "Humphrey Bogart - 0.025941976646201997\n",
            "James Stewart - 0.022511135187191524\n",
            "Gary Cooper - 0.022270374383050438\n",
            "John Gielgud - 0.022270374383050438\n",
            "John Carradine - 0.022089803779944624\n",
            "Peter Lorre - 0.021668472372697724\n",
            "C.Aubrey Smith - 0.02028409774888648\n",
            "Henry Fonda - 0.019622005537498495\n",
            "Burt Lancaster - 0.018779342723004695\n"
          ],
          "name": "stdout"
        }
      ]
    },
    {
      "metadata": {
        "id": "x4hX9xmQ-fFP",
        "colab_type": "text"
      },
      "cell_type": "markdown",
      "source": [
        "### Eigenvector centrality"
      ]
    },
    {
      "metadata": {
        "id": "0JLIYvOZ-fFQ",
        "colab_type": "code",
        "outputId": "ace511fc-3084-4a4e-df73-6bacb71a720e",
        "colab": {
          "base_uri": "https://localhost:8080/",
          "height": 191
        }
      },
      "cell_type": "code",
      "source": [
        "eigenvector_centrality = nx.eigenvector_centrality(graph)\n",
        "sorted_x = sorted(eigenvector_centrality.items(), key=lambda kv: kv[1], reverse= True)\n",
        "for i in sorted_x[:10]:\n",
        "    print(f'{i[0]} - {i[1]}')"
      ],
      "execution_count": 48,
      "outputs": [
        {
          "output_type": "stream",
          "text": [
            "s a - 0.32927013296535745\n",
            "C.Aubrey Smith - 0.08662877894729215\n",
            "John Carradine - 0.08522052158966704\n",
            "James Stewart - 0.08332664155998606\n",
            "John Gielgud - 0.08103511480945194\n",
            "Peter Lorre - 0.07850365590146662\n",
            "Gary Cooper - 0.0774399525342619\n",
            "Basil Rathbone - 0.07489727554123304\n",
            "Henry Fonda - 0.07489229044218115\n",
            "Humphrey Bogart - 0.07423319561996228\n"
          ],
          "name": "stdout"
        }
      ]
    },
    {
      "metadata": {
        "id": "BqO-5Pls-fFW",
        "colab_type": "text"
      },
      "cell_type": "markdown",
      "source": [
        "### Communities"
      ]
    },
    {
      "metadata": {
        "id": "5-1cbDM2-fFY",
        "colab_type": "code",
        "outputId": "8560e459-9018-46f4-be23-63d45ccf3539",
        "colab": {
          "base_uri": "https://localhost:8080/",
          "height": 191
        }
      },
      "cell_type": "code",
      "source": [
        "communities = {node:cid+1 for cid,community in enumerate(nx.algorithms.community.k_clique_communities(graph,3)) for node in community}\n",
        "sorted_x = sorted(communities.items(), key=lambda kv: kv[1], reverse= True)\n",
        "for i in sorted_x[:10]:\n",
        "    print(f'{i[0]} - {i[1]}')"
      ],
      "execution_count": 49,
      "outputs": [
        {
          "output_type": "stream",
          "text": [
            "John Agar - 1156\n",
            "Kiki - 1156\n",
            "Rosemarie Bowe - 1156\n",
            "Fernando Rey - 1155\n",
            "Steve Reeves - 1155\n",
            "Christine Kaufman - 1155\n",
            "Jason Miller - 1154\n",
            "Christine Lahti - 1154\n",
            "David Spielberg - 1154\n",
            "Anna Magnani - 1153\n"
          ],
          "name": "stdout"
        }
      ]
    },
    {
      "metadata": {
        "id": "6RXTFg8zeT4r",
        "colab_type": "text"
      },
      "cell_type": "markdown",
      "source": [
        "## Kevin Bacon"
      ]
    },
    {
      "metadata": {
        "id": "dVgpqkmV-fFc",
        "colab_type": "code",
        "colab": {
          "base_uri": "https://localhost:8080/",
          "height": 329
        },
        "outputId": "4030ec5e-7b30-4058-cf0a-5592c14fa1d3"
      },
      "cell_type": "code",
      "source": [
        "not_connected = 0\n",
        "path_lens = {}\n",
        "for actor in data.actor.unique():\n",
        "  try:\n",
        "    path_len = len(nx.shortest_path(graph, actor, 'Kevin Bacon'))\n",
        "  except nx.NetworkXNoPath:\n",
        "    not_connected += 1\n",
        "  path_lens[actor] = path_len - 1\n",
        "\n",
        "max_number = sorted(path_lens.items(), key=lambda kv: kv[1], reverse= True)\n",
        "min_number = sorted(path_lens.items(), key=lambda kv: kv[1])\n",
        "  \n",
        "print(f'Min. number: {min(path_lens.values())}')\n",
        "print(f'Max. number: {max(path_lens.values())}')\n",
        "print(f'Avg. number: {sum(path_lens.values()) / len(path_lens.values())}')\n",
        "print(f'Not connected: {not_connected}')\n",
        "\n",
        "print('\\nMin:')\n",
        "for actor, number  in  min_number[:5]:\n",
        "  print(f'{actor} - {number}')\n",
        "  \n",
        "print('\\nMax:')\n",
        "for actor, number  in  max_number[:5]:\n",
        "  print(f'{actor} - {number}')"
      ],
      "execution_count": 30,
      "outputs": [
        {
          "output_type": "stream",
          "text": [
            "Min. number: 0\n",
            "Max. number: 6\n",
            "Avg. number: 2.820403250075233\n",
            "Not connected: 1553\n",
            "\n",
            "Min:\n",
            "Kevin Bacon - 0\n",
            "s a - 1\n",
            "Joe Pesci - 1\n",
            "Meryl Streep - 1\n",
            "Gary Oldman - 1\n",
            "\n",
            "Max:\n",
            "Elisa Touati - 6\n",
            "Marbel Verdu - 6\n",
            "Maria deMederios - 6\n",
            "Robert Castle - 6\n",
            "Barbara Dennek - 6\n"
          ],
          "name": "stdout"
        }
      ]
    },
    {
      "metadata": {
        "id": "byVkGl2wjbp2",
        "colab_type": "text"
      },
      "cell_type": "markdown",
      "source": [
        "### Output - only scientist"
      ]
    },
    {
      "metadata": {
        "id": "_0hCLAEDkoEg",
        "colab_type": "code",
        "colab": {}
      },
      "cell_type": "code",
      "source": [
        "data = data[data.type == 'Sci']\n",
        "\n",
        "film_actors = {}\n",
        "graph = nx.Graph()\n",
        "\n",
        "for index, row in data.iterrows():\n",
        "    graph.add_node(row['actor'])\n",
        "    \n",
        "    if row['film_name'] in film_actors:\n",
        "        for actor in film_actors[row['film_name']]:\n",
        "            graph.add_edge(actor, row['actor'])\n",
        "        \n",
        "        film_actors[row['film_name']].append(row['actor'])\n",
        "    else:\n",
        "        film_actors[row['film_name']] = [row['actor']]"
      ],
      "execution_count": 0,
      "outputs": []
    },
    {
      "metadata": {
        "id": "1oUq1aNmjbVU",
        "colab_type": "code",
        "colab": {}
      },
      "cell_type": "code",
      "source": [
        "nx.write_gexf(graph, 'output_sci_graph.gexf')"
      ],
      "execution_count": 0,
      "outputs": []
    }
  ]
}